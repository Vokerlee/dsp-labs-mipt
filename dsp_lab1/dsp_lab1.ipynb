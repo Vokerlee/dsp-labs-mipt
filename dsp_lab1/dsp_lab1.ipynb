{
 "cells": [
  {
   "cell_type": "markdown",
   "metadata": {},
   "source": [
    "# Лабораторная работа №1.  ДВПФ и ДПФ"
   ]
  },
  {
   "cell_type": "markdown",
   "metadata": {},
   "source": [
    "В данной работе используются значения варианта №5."
   ]
  },
  {
   "cell_type": "code",
   "execution_count": null,
   "metadata": {},
   "outputs": [],
   "source": [
    "import matplotlib\n",
    "from matplotlib import pyplot as plt\n",
    "from matplotlib.gridspec  import GridSpec\n",
    "\n",
    "import warnings\n",
    "warnings.filterwarnings('ignore')\n",
    "\n",
    "def __plot_uniform_signal(axes, x, y, label, format=\"o\"):\n",
    "    axes.plot(x, y, format, label=label)\n",
    "\n",
    "def __plot_discrete_signal(axes, x, y, label, format=\"o\"):\n",
    "    axes.stem(x, y, format, label=label)\n",
    "    axes.set_xticks(x)\n",
    "\n",
    "def plot_signal(x, y, label=\"\", format=\"o\", gridspec=None, figure=None, subplot_row=0, subplot_col=0, ncols=1, nrows=1,\n",
    "                figsize=(6, 4), title=\"Signal plot\", xlabel=\"$k$\", ylabel=\"$x[k]$\", uniform=False):\n",
    "    if figure == None:\n",
    "        figure = plt.figure(figsize=figsize, dpi=120)\n",
    "    if gridspec == None:\n",
    "        gridspec = GridSpec(ncols=ncols, nrows=nrows, figure=figure)\n",
    "\n",
    "    axes = figure.add_subplot(gridspec[subplot_row, subplot_col])\n",
    "    axes.minorticks_on()\n",
    "    axes.grid(which='major', linewidth=2)\n",
    "    axes.grid(which='minor', linestyle=':')\n",
    "\n",
    "    axes.set_title(title)\n",
    "    axes.set_xlabel(xlabel)\n",
    "    axes.set_ylabel(ylabel)\n",
    "\n",
    "    if uniform == True:\n",
    "        __plot_uniform_signal(axes, x, y, label, format)\n",
    "    else:\n",
    "        __plot_discrete_signal(axes, x, y, label, format)\n",
    "\n",
    "    axes.legend()\n",
    "\n",
    "    return figure, gridspec, axes"
   ]
  },
  {
   "cell_type": "code",
   "execution_count": null,
   "metadata": {},
   "outputs": [],
   "source": [
    "def dtft(x, M=1024):\n",
    "    return -0.5 + np.arange(M) / M, np.fft.fftshift(np.fft.fft(x, M))"
   ]
  },
  {
   "cell_type": "code",
   "execution_count": null,
   "metadata": {},
   "outputs": [],
   "source": [
    "def __plot_analyses(x, y, signame, title_formatter, ylabel_formatter, xlabel, uniform=False, real_imag=False):\n",
    "    assert len(x) == len(y)\n",
    "    y[np.abs(y) < 1e-10] = 0\n",
    "\n",
    "    fig, gs, ax = plot_signal(x, np.abs(y), format=\"\", label=\"\", title=f\"$Модуль \\; {title_formatter(signame)}$\",\n",
    "                              xlabel=xlabel, ylabel=f\"$|{ylabel_formatter(signame)}|$\",\n",
    "                              nrows=4, figsize=(7, 7), uniform=uniform)\n",
    "    fig, gs, ax = plot_signal(x, np.angle(y), format=\"\", label=\"\", title=f\"$Фаза \\; {title_formatter(signame)}$\", \\\n",
    "                              xlabel=xlabel, ylabel=f\"$\\\\varphi({ylabel_formatter(signame)})$\",\n",
    "                              subplot_row=1, gridspec=gs, figure=fig, uniform=uniform)\n",
    "\n",
    "    if real_imag == True:\n",
    "        fig, gs, ax = plot_signal(x, np.real(y), format=\"\", label=\"\", title=f\"$Real \\; {title_formatter(signame)}$\",\n",
    "                                  xlabel=xlabel, ylabel=f\"$real({ylabel_formatter(signame)})$\",\n",
    "                                  subplot_row=2, gridspec=gs, figure=fig, uniform=uniform)\n",
    "        fig, gs, ax = plot_signal(x, np.imag(y), format=\"\", label=\"\", title=f\"$Imag \\; {title_formatter(signame)}$\",\n",
    "                                  xlabel=xlabel, ylabel=f\"$imag({ylabel_formatter(signame)})$\",\n",
    "                                  subplot_row=3, gridspec=gs, figure=fig, uniform=uniform)\n",
    "\n",
    "    fig.tight_layout()\n"
   ]
  },
  {
   "cell_type": "code",
   "execution_count": null,
   "metadata": {},
   "outputs": [],
   "source": [
    "def plot_analyses(k, x, signame, real_imag=False, uniform=False):\n",
    "    def ylabel_formatter(name):\n",
    "        return f\"{name.lower()}[k]\"\n",
    "\n",
    "    def title_formatter(name):\n",
    "        return f\"сигнала \\; {name.lower()}[k]\"\n",
    "\n",
    "    __plot_analyses(k, x, signame, title_formatter, ylabel_formatter, xlabel=\"$k$\", real_imag=real_imag, uniform=uniform)"
   ]
  },
  {
   "cell_type": "code",
   "execution_count": null,
   "metadata": {},
   "outputs": [],
   "source": [
    "def plot_analyses_dtft(nu, X, signame, real_imag=False):\n",
    "    def ylabel_formatter(name):\n",
    "        return f\"{name.upper()}(\\\\nu)\"\n",
    "\n",
    "    def title_formatter(name):\n",
    "        return f\"ДВПФ \\; {name.lower()}[k]\"\n",
    "\n",
    "    __plot_analyses(nu, X, signame, title_formatter, ylabel_formatter, xlabel=\"$\\\\nu$\", real_imag=real_imag, uniform=True)"
   ]
  },
  {
   "cell_type": "code",
   "execution_count": null,
   "metadata": {},
   "outputs": [],
   "source": [
    "def plot_analyses_dft(n, X, signame, real_imag=False):\n",
    "    def ylabel_formatter(name):\n",
    "        return f\"{name.upper()}[n]\"\n",
    "\n",
    "    def title_formatter(name):\n",
    "        return f\"ДПФ \\; {name.lower()}[k]\"\n",
    "\n",
    "    __plot_analyses(n, X, signame, title_formatter, ylabel_formatter, xlabel=\"$n$\", real_imag=real_imag, uniform=False)"
   ]
  },
  {
   "cell_type": "markdown",
   "metadata": {
    "id": "X_sBcGU2SpM6"
   },
   "source": [
    "# Модуль 1. Свойства ДВПФ."
   ]
  },
  {
   "cell_type": "markdown",
   "metadata": {
    "id": "2SVBVaggrxrY"
   },
   "source": [
    "## Задача 1.1. ДВПФ и взвешивание гармонического сигнала окном\n",
    "\n",
    "\n",
    "| Варианты: |   1 |    2 |    3 |    4 |    5 |    6 |    7 |    8 |    9 |    10 | \n",
    "|:---------:|----:|-----:|-----:|-----:|-----:|-----:|-----:|-----:|-----:|-----:| \n",
    "|    $N$    | 12 | 17 | 14 | 15 | 13 | 16 | 20 | 24 | 22 | 18 |\n",
    "|$n_0$|  3 |  5 |  2 |  5 |  4 |  6 |  7 |  7 |  5 |  5 |\n",
    "\n",
    "\n",
    "Найти аналитически ДВПФ $N$ - точечных последовательностей\n",
    "$$x[k]=\\sum_{m=0}^{N-1}\\mathbf{1}[k-m]\\;\\;\\;\\;y[k]=x[k]\\cos\\left(2\\pi k\\dfrac{n_0}{N}\\right)$$  \n"
   ]
  },
  {
   "cell_type": "markdown",
   "metadata": {},
   "source": [
    "$$X(\\nu )=\\sum\\limits_{k=-\\infty }^{\\infty }{x}[k]\\exp (-j2\\pi \\nu k)=\\sum\\limits_{k=0}^{N-1}{\\exp (-j2\\pi \\nu k)}=\\frac{1-\\exp (-j2\\pi \\nu N)}{1-\\exp (-j2\\pi \\nu )}=$$\n",
    "$$=\\frac{{{e}^{-j\\pi \\nu N}}}{{{e}^{-j\\pi \\nu }}}\\frac{({{e}^{j\\pi \\nu N}}-{{e}^{-j\\pi \\nu N}})}{({{e}^{j\\pi \\nu }}-{{e}^{-j\\pi \\nu }})}=\\frac{\\sin (N\\pi \\nu )}{\\sin (\\pi \\nu )}\\exp (-j(N-1)\\pi \\nu ).$$\n",
    "\n",
    "$$Y(\\nu )=\\sum\\limits_{k=-\\infty }^{\\infty }{x}[k]\\exp (-j2\\pi \\nu k)\\cos\\left(2\\pi k\\dfrac{n_0}{N}\\right) = \\sum\\limits_{k=-\\infty }^{\\infty }{x}[k]\\exp (-j2\\pi \\nu k) \\frac{1}{2}\\left( \\exp (+j2\\pi k\\dfrac{n_0}{N}) + \\exp (-j2\\pi k\\dfrac{n_0}{N}) \\right)=$$\n",
    "$$=\\frac{1}{2}\\left( X(\\nu - \\dfrac{n_0}{N}) + X(\\nu + \\dfrac{n_0}{N}) \\right)$$"
   ]
  },
  {
   "cell_type": "markdown",
   "metadata": {},
   "source": [
    "Построить графики последовательностей $x[k]$ и $y[k]$."
   ]
  },
  {
   "cell_type": "code",
   "execution_count": null,
   "metadata": {},
   "outputs": [],
   "source": [
    "import numpy as np\n",
    "import scipy as sp\n",
    "\n",
    "N = 13\n",
    "n_0 = 4\n",
    "nu_0 = n_0 / N"
   ]
  },
  {
   "cell_type": "code",
   "execution_count": null,
   "metadata": {},
   "outputs": [],
   "source": [
    "x = np.ones(N)\n",
    "k = np.arange(x.size)\n",
    "y = x * np.cos(2 * np.pi * k * n_0 / N)\n",
    "\n",
    "print('x =', x)\n",
    "print('y =', y)\n",
    "print('k =', k)"
   ]
  },
  {
   "cell_type": "code",
   "execution_count": null,
   "metadata": {},
   "outputs": [],
   "source": [
    "fig, gs, ax = plot_signal(k, x, format=\"o\", label=\"\", title=\"Сигнал $x[k]$\", xlabel=\"$k$\", ylabel=\"$x[k]$\",\n",
    "                          nrows=2, figsize=(6, 4))\n",
    "fig, gs, ax = plot_signal(k, y, format=\"o\", label=\"\", title=\"Сигнал $y[k]$\", xlabel=\"$k$\", ylabel=\"$y[k]$\",\n",
    "                          subplot_row=1, gridspec=gs, figure=fig)\n",
    "fig.tight_layout()"
   ]
  },
  {
   "cell_type": "markdown",
   "metadata": {},
   "source": [
    "Изобразить графики модуля ДВПФ для частот $\\nu \\in [-0.5, \\; 0.5]$\n",
    "* а) используя полученные аналитические формулы;\n"
   ]
  },
  {
   "cell_type": "code",
   "execution_count": null,
   "metadata": {},
   "outputs": [],
   "source": [
    "nu = np.linspace(-0.5, 0.5, 1000)\n",
    "\n",
    "def get_X(nu):\n",
    "    return np.sin(N * np.pi * nu) / np.sin(np.pi * nu) * np.exp(-1j * (N - 1) * np.pi * nu)\n",
    "\n",
    "def get_Y(nu, nu_0):\n",
    "    return 1/2 * (get_X(nu - nu_0) + get_X(nu + nu_0))\n",
    "\n",
    "plot_analyses_dtft(nu, get_X(nu), signame=\"x\")\n",
    "plot_analyses_dtft(nu, get_Y(nu, nu_0), signame=\"y\")"
   ]
  },
  {
   "cell_type": "markdown",
   "metadata": {
    "id": "bSvcTPrZy1ht"
   },
   "source": [
    "* б) используя функцию ```np.fft.fft()```."
   ]
  },
  {
   "cell_type": "code",
   "execution_count": null,
   "metadata": {},
   "outputs": [],
   "source": [
    "nu, X = dtft(x, 1000)\n",
    "nu, Y = dtft(y, 1000)\n",
    "\n",
    "plot_analyses_dtft(nu, X, signame=\"x\")\n",
    "plot_analyses_dtft(nu, Y, signame=\"x\")"
   ]
  },
  {
   "cell_type": "markdown",
   "metadata": {
    "id": "zfH2HNGYsasr"
   },
   "source": [
    "## Задача 1.2. Симметрия ДВПФ\n",
    "\n",
    "| Варианты: |   1 |    2 |    3 |    4 |    5 |    6 |    7 |    8 |    9 |    10 | \n",
    "|:---------:|----:|-----:|-----:|-----:|-----:|-----:|-----:|-----:|-----:|-----:|\n",
    "|    $N$    | 12 | 17 | 14 | 15 | 13 | 16 | 20 | 24 | 22 | 18 |\n",
    "\n",
    "\n",
    "Создайте произвольную действительную последовательность отсчетов $x[k]$ длиной $N$ отсчетов. Постройте с помощью компьютерного моделирования графики следующих функций  для частот $\\nu \\in [-0.5, \\; 0.5]$:\n",
    "* модуль ДВПФ $|X(\\nu)|$,\n",
    "* фазовая часть ДВПФ $\\varphi(\\nu)=\\angle X(\\nu)$,\n",
    "* действительная часть ДВПФ $\\text{Re } X(\\nu)$,\n",
    "* мнимая  часть ДВПФ $\\text{Im } X(\\nu)$.\n",
    "\n",
    "Определите, являются ли они симметричными либо антисимметричными относительно нулевой частоты."
   ]
  },
  {
   "cell_type": "code",
   "execution_count": null,
   "metadata": {
    "id": "D4pJOvRD-rop"
   },
   "outputs": [],
   "source": [
    "N = 13\n",
    "k = np.arange(N)\n",
    "x = np.random.uniform(-1,1, N) * np.ones(N)\n",
    "\n",
    "fig, gs, ax = plot_signal(k, x, format=\"o\", label=\"\", title=\"Сигнал $x[k]$\", xlabel=\"$k$\", ylabel=\"$x[k]$\",\n",
    "                          figsize=(8, 2.5))\n",
    "nu, X = dtft(x)\n",
    "plot_analyses_dtft(nu, X, signame=\"x\", real_imag=True)"
   ]
  },
  {
   "cell_type": "markdown",
   "metadata": {
    "id": "ljDPWRwWS2ST"
   },
   "source": [
    "# Модуль 2. Свойства ДПФ.\n",
    "\n",
    "\n"
   ]
  },
  {
   "cell_type": "markdown",
   "metadata": {
    "id": "RRpvvvSim-wk"
   },
   "source": [
    "## Задача 2.1. Циклический сдвиг ДПФ\n",
    "\n",
    "| Варианты: |  $x[k]$  | $n_0$ |  $l$  |\n",
    "|:---------:|:--------:|:----:|:-----:|\n",
    "|**1**|$$\\{\\underbrace{4.1}_{k=0} \\;\\;3.5\\;\\;1.2\\;\\;5.0\\;\\;2.0\\;\\;3.3\\}$$|  -3  |  6  |\n",
    "|**2**|$$\\{\\underbrace{3.8}_{k=0}\\;\\;8.3\\;\\;0.1\\;\\;9.1\\;\\;1.5\\;\\;10.0\\;\\;5.1\\;\\;1.9\\}$$|  4  |  8 |\n",
    "|**3**|$$\\{\\underbrace{2.8}_{k=0}\\;\\;0\\;\\;4.6\\;\\;0\\;\\;0.9\\;\\;0\\;\\;9.0\\;\\;0\\;\\;6.4\\;\\;0\\;\\;8.2\\;\\;0\\}$$|  3  |  12  |\n",
    "|**4**|$$\\{\\underbrace{2.8}_{k=0} \\;\\;4.6\\;\\;0.9\\;\\;3.8\\;\\;5.0\\;\\;1.7\\}$$|  3  |  6  |\n",
    "|**5**|$$\\{\\underbrace{4.1}_{k=0} \\;\\;3.5\\;\\;1.2\\;\\;5.0\\;\\;3.0\\;\\;2.3\\;\\;5.3\\;\\;2.1\\}$$| -4  |  8  |\n",
    "|**6**|$$\\{\\underbrace{3.8}_{k=0}\\;\\;0\\;\\;8.3\\;\\;0\\;\\;9.1\\;\\;0\\;\\;1.9\\;\\;0\\}$$|  -2  |  8  |\n",
    "|**7**|$$\\{\\underbrace{0.1}_{k=0}\\;\\;0.2\\;\\;0.3\\;\\;0.4\\;\\;0.5\\;\\;0.6\\;\\;0.7\\;\\;0.8\\}$$|  -5  |  8  |\n",
    "|**8**|$$\\{\\underbrace{0.8}_{k=0}\\;\\;0.7\\;\\;0.6\\;\\;0.5\\;\\;0.4\\;\\;0.3\\;\\;0.2\\;\\;0.1\\}$$|  5  |  8  |\n",
    "|**9**|$$\\{\\underbrace{0.1}_{k=0}\\;\\;0.2\\;\\;0.4\\;\\;0.8\\;\\;1.6\\;\\;3.2\\;\\;6.4\\;\\;12.8\\}$$|  7  |  8  |\n",
    "|**10**|$$\\{\\underbrace{12.8}_{k=0}\\;\\;6.4\\;\\;3.2\\;\\;1.6\\;\\;0.8\\;\\;0.4\\;\\;0.2\\;\\;0.1\\}$$|  -7  |  8  |\n",
    "\n",
    "Пусть $x[k]\\overset{\\text{ДПФ}}\\longleftrightarrow X[n]$,  $y[k] \\overset{\\text{ДПФ}}\\longleftrightarrow  Y[n]$, $Y[n]=X[(n+n_0) \\mod l],$\n",
    "\n",
    "\n",
    "1) Вычислите аналитически последовательность $y[k]$ без непосредственного вычисления ДПФ $x[k]$, используя свойства ДПФ.\n"
   ]
  },
  {
   "cell_type": "markdown",
   "metadata": {},
   "source": [
    "По теореме смещения:\n",
    "$$\n",
    "Y[n] = X[\\left( n + n_0\\right) \\mod l] \\Rightarrow \n",
    "y[k] = x[k] \\cdot \\exp{\\left( -j \\cdot 2 \\pi k \\cdot \\frac{n_0}{l} \\right)}\n",
    "$$"
   ]
  },
  {
   "cell_type": "markdown",
   "metadata": {},
   "source": [
    "2) Проведите моделирование в Python. \n",
    "- Вычислите ДПФ $X[n]$ последовательности $x[k]$ (```fft(x)```).\n",
    "- Осуществите циклический сдвиг $X[n]$ (```np.roll(X, n0)```).\n",
    "- Вычислите обратное ДПФ для $Y[n]$ (```ifft(Y)```)."
   ]
  },
  {
   "cell_type": "code",
   "execution_count": null,
   "metadata": {
    "id": "XVPNJboh-s6a"
   },
   "outputs": [],
   "source": [
    "n_0, l = -4, 8\n",
    "k = np.arange(l)\n",
    "x = np.array([4.1, 3.5, 1.2, 5.0, 3.0, 2.3, 5.3, 2.1])\n",
    "y = x * np.exp(-1j * 2 * np.pi * k * n_0 / l)\n",
    "\n",
    "X = np.fft.fft(x) # DFT of x\n",
    "Y = np.roll(X, n_0)\n",
    "Y_inv = np.fft.ifft(Y)"
   ]
  },
  {
   "cell_type": "code",
   "execution_count": null,
   "metadata": {},
   "outputs": [],
   "source": [
    "print(y, Y_inv)\n",
    "plot_analyses(k, y, signame=\"y\", uniform=True)\n",
    "plot_analyses(k, Y_inv, signame=\"y^{roll}\", uniform=True)"
   ]
  },
  {
   "cell_type": "markdown",
   "metadata": {
    "id": "4XdesZOpnY8g"
   },
   "source": [
    "## Задача 2.2. Энергия и мощность дискретного сигнала.\n",
    "\n",
    "| Варианты:|$$X[0]$$| $X[1]$ | $X[2]$ | $X[3]$ | $X[4]$ | $X[5]$ |$$X[6]$$|\n",
    "|:--------:|:------:|:------:|:------:|:------:|:------:|:------:|:------:|\n",
    "|  **1**  |  12  | $$-7-5j$$ | $$1-8j$$ | $$4+3j$$ | $$2+6j$$ | $$4-4j$$ | 0 |\n",
    "|  **2**  |  13  |  $$6-5j$$ | $$8-6j$$ | $$5+5j$$ |$$-3+4j$$ | $$5+9j$$ | 0 |\n",
    "|  **3**  |  10  |  $$2-7j$$ | $$0+8j$$ | $$8-8j$$ | $$0+6j$$ |$$-1+9j$$ | 9 |\n",
    "|  **4**  |  14  |  $$5+9j$$ | $$5+7j$$ | $$4+6j$$ | $$3-3j$$ |$$-1-5j$$ | 5 |\n",
    "|  **5**  |  11  | $$-4-5j$$ | $$8-3j$$ |$$-2+9j$$ |$$-3+8j$$ | $$2-9j$$ |-4 |\n",
    "|  **6**  |  10  | $$-6+3j$$ | $$6+3j$$ | $$6-1j$$ | $$1-6j$$ | $$9+5j$$ | 5 |\n",
    "|  **7**  |  12  | $$-7-5j$$ | $$1-8j$$ | $$4+3j$$ | $$2+6j$$ | $$4-4j$$ | 0 |\n",
    "|  **8**  |  13  |  $$6-5j$$ | $$8-6j$$ | $$5+5j$$ |$$-3+4j$$ | $$5+9j$$ | 0 |\n",
    "|  **9**  |  10  |  $$2-7j$$ | $$0+8j$$ | $$8-8j$$ | $$0+6j$$ |$$-1+9j$$ | 9 |\n",
    "|  **10**  |  14  |  $$5+9j$$ | $$5+7j$$ | $$4+6j$$ | $$3-3j$$ |$$-1-5j$$ | 5 |\n",
    "\n",
    "Пусть \n",
    "$$\n",
    "X[n]= \\sum_{k=0}^{11} x[k] \\exp \\left(-j \\dfrac{2\\pi}{N} nk \\right)\n",
    "$$\n",
    "— 12-точечное ДПФ действительной последовательности $x[k]$ и пусть заданы бины ДПФ в соответствии с вариантом.\n",
    "\n",
    "1) Воспользовавшись свойствами симметрии, определите значения всех отсчетов ДПФ на одном периоде. \n",
    "\n",
    "2) Определите среднее арифметическое значение элементов последовательности $x[k]$:\n",
    "$$\\dfrac{1}{N} \\sum_{k=0}^{N-1} x[k]$$\n",
    " с использованием значения отсчета ДПФ с номером $n=0$.\n",
    "\n",
    "3) С использованием равенства Парсеваля для ДПФ определить энергию дискретного сигнала $x[k]$\n",
    "\n",
    "$$ \\sum_{k=0}^{N-1} |x[k]|^2 $$\n",
    "\n",
    "и мощность для его периодического продолжения с периодом 12\n",
    "$$ \\dfrac{1}{N} \\sum_{k=0}^{N-1} |x[k]|^2. $$\n",
    "\n",
    "\n",
    "4) Вычислите обратное ДПФ с помощью функции ```ifft```, а затем энергию и среднее арифметическое для $x[k]$. \n",
    "Сравните с результатами, полученными в п.2 и п.3.\n"
   ]
  },
  {
   "cell_type": "markdown",
   "metadata": {
    "id": "l9LdOI2W_tat"
   },
   "source": [
    "Найдём значения в ДПФ.\n",
    "Для действительной последовательности $x[k]$ верно, что\n",
    "$$\n",
    "\\left\\lbrace \n",
    "\\begin{matrix}\n",
    "x[k] = x^{*}[k]\\\\\n",
    "x[k] \\leftrightarrow^{DFT} X^{*}[N - n]_N\n",
    "\\end{matrix}\n",
    "\\right. \\Rightarrow\n",
    "X[n] = X^{*}[N - n]_N\n",
    "$$\n",
    "Таким образом, получаем:\n",
    "$$\n",
    "\\begin{align*}\n",
    "X[0] &= X^{*}[0] = 11 \\\\\n",
    "X[11] &= X^{*}[1] = -4 + 5j\\\\\n",
    "X[10] &= X^{*}[2] = 8 + 3j\\\\\n",
    "X[9] &= X^{*}[3] = -2 - 9j\\\\\n",
    "X[8] &= X^{*}[4] = -3 - 8j\\\\\n",
    "X[7] &= X^{*}[5] = 2 + 9j\\\\\n",
    "X[6] &= X^{*}[6] = -4\n",
    "\\end{align*}\n",
    "$$"
   ]
  },
  {
   "cell_type": "markdown",
   "metadata": {},
   "source": [
    "$$\n",
    "X[n] =  \\sum_{k=0}^{N-1} x[k] \\cdot \\exp{\\left( \n",
    "  -j \\cdot 2 \\pi k \\frac{n}{N}\n",
    "\\right)} \\Rightarrow X[0] = \\sum_{k=0}^{N-1} x[k] \\cdot 1 = \\sum_{k=0}^{N-1} x[k]\n",
    "$$\n",
    "Таким образом\n",
    "$$\n",
    "\\frac{1}{N}\\sum_{k=0}^{N-1} x[k] = \\frac{X[0]}{N} = \\frac{11}{12} \\approx 0.917\n",
    "$$"
   ]
  },
  {
   "cell_type": "markdown",
   "metadata": {},
   "source": [
    "Используем равенство Парсеваля:\n",
    "$$\n",
    "\\sum_{k=0}^{N-1} \\left| x[k] \\right|^2 = \\frac{1}{N} \\sum_{n=0}^{N-1} \\left| X[n] \\right|^2\n",
    "$$\n",
    "Получаем для энергии сигнала:\n",
    "$$\n",
    "\\frac{1}{12} \\sum_{n=0}^{11} \\left| X[n] \\right|^2 = \n",
    "\\frac{1}{12} \\left(\n",
    "121 + 41 + 73 + 85 + 73 + \n",
    "\\right. \\\\ \\left. 85 + 16 + 85 + 73 + 85 + 73 + 41\n",
    "\\right)  = \\frac{851}{12} \\approx 70.92\n",
    "$$\n",
    "Мощность сигнала:\n",
    "$$\n",
    "\\frac{1}{N}\\sum_{k=0}^{N-1} \\left| x[k] \\right|^2 = \n",
    "\\frac{1}{N^2} \\sum_{n=0}^{N-1} \\left| X[n] \\right|^2 = \\frac{851}{12^2} \\approx 5.91\n",
    "$$"
   ]
  },
  {
   "cell_type": "code",
   "execution_count": null,
   "metadata": {},
   "outputs": [],
   "source": [
    "part = np.array([-4 - 5j, 8 -3j, -2  + 9j, -3 - 8j, 2 + 9j])\n",
    "\n",
    "X = np.append(np.append(np.append(np.array([11]), part), [-4]), np.conj(np.flip(part)))\n",
    "print(X)\n",
    "x = np.fft.ifft(X)\n",
    "\n",
    "print(f\"Среднее: {np.mean(x)}\")\n",
    "print(f\"Энергия: {np.sum(np.abs(x)**2)}\")\n",
    "print(f\"Мощность: {np.mean(np.abs(x)**2)}\")"
   ]
  },
  {
   "cell_type": "markdown",
   "metadata": {
    "id": "qOrxU3Z5nfxe"
   },
   "source": [
    "## Задача 2.3. ДПФ как коэффициенты разложения по базису\n",
    "\n",
    "\n",
    "| Варианты: |   1 |    2 |    3 |    4 |    5 |    6 |    7 |    8 |    9 |    10 | \n",
    "|:---------:|----:|-----:|-----:|-----:|-----:|-----:|-----:|-----:|-----:|-----:|\n",
    "|   **N**   | 12 | 16 | 14 | 16 | 18 | 16 | 24 | 20 | 18 | 16 |\n",
    "|   $r_1$   |  3 |  2 |  6 |  7 |  7 |  1 |  7 |  3 |  3 |  2 |\n",
    "|   $r_2$   |  5 |  4 |  2 |  3 |  5 |  4 |  5 |  7 |  5 |  5 |\n",
    "\n",
    "Вычислите коэффициенты $N$ – точечного ДПФ $X[n]$ для \n",
    "$$\n",
    "\\begin{equation} \n",
    "x[k]=\\left\\{\\begin{array}{l}\\cos \\left( \\dfrac{2\\pi}{N} r_1 k\\right) + \\sin \\left( \\dfrac{2\\pi}{N} r_2 k\\right) ,\\;0\\leq k\\leq N-1;\\\\0,\\;\\;\\text{при других  } k.\\end{array}\\right.\n",
    "\\end{equation}\n",
    "$$\n",
    "при заданных $r_1$ и $r_2$ с помощью\n",
    " \n",
    " * формулы вычисления ДПФ\n",
    " * теоремы смещения для ДПФ \n",
    " * как коэффиценты разложения сигнала $x[k]$ по базису из комплексно-экспоненциальных функций  $\\varphi_n[k]=\\exp(j \\dfrac{2\\pi}{N} n k)$ (на самом деле это следствие первого пункта)\n",
    " * с помощью функции ```fft```\n",
    " \n",
    " Сравните результаты. Постройте графики для $|X[n]|$, $\\angle X[n]$, $\\text{Re } X[n]$, $\\text{Im }X[n]$."
   ]
  },
  {
   "cell_type": "markdown",
   "metadata": {
    "id": "tlaBxGk__ute"
   },
   "source": [
    "Прямая формула:\n",
    "$$\n",
    "X[n] = \\sum_{k=0}^{N-1} x[k] \\cdot \\exp{\n",
    "  \\left(\n",
    "    -j \\cdot 2 \\pi k \\frac{n}{N}\n",
    "  \\right) \n",
    "} = \\\\\n",
    "\\sum_{k=0}^{N-1} \\cos{\\left(2 \\pi k \\frac{r_1}{N}\\right)} \\cdot \\exp{\n",
    "  \\left(\n",
    "    -j \\cdot 2 \\pi k \\frac{n}{N}\n",
    "  \\right) \n",
    "} + \n",
    "\\sum_{k=0}^{N-1} \\sin{\\left(2 \\pi k \\frac{r_2}{N} \\right)} \\cdot \\exp{\n",
    "  \\left(\n",
    "    -j \\cdot 2 \\pi k \\frac{n}{N}\n",
    "  \\right) \n",
    "} = \\\\\n",
    "\\sum_{k=0}^{17} \\cos{\\left(\\frac{2\\pi}{18} 7k\\right)}  \\cdot \\exp{\n",
    "  \\left(\n",
    "    -j \\frac{2 \\pi}{18} nk\n",
    "  \\right) \n",
    "} + \n",
    "\\sum_{k=0}^{17} \\sin{\\left(\\frac{2\\pi}{18}5k\\right)} \\cdot \\exp{\n",
    "  \\left(\n",
    "    -j \\frac{2\\pi}{18}nk\n",
    "  \\right) \n",
    "} = \\\\\n",
    "\\sum_{k=0}^{17} \\frac{1}{2} \\exp{\\left(j\\frac{2\\pi}{18} 7k\\right)}  \\cdot \\exp{\n",
    "  \\left(\n",
    "    -j \\frac{2 \\pi}{18} nk\n",
    "  \\right) \n",
    "} + \n",
    "\\sum_{k=0}^{17} \\frac{1}{2} \\exp{\\left(-j\\frac{2\\pi}{18} 7k\\right)}  \\cdot \\exp{\n",
    "  \\left(\n",
    "    -j \\frac{2 \\pi}{18} nk\n",
    "  \\right) \n",
    "} + \\\\\n",
    "\\sum_{k=0}^{17} \\frac{1}{2j}\\exp{\\left(j\\frac{2\\pi}{18}5k\\right)} \\cdot \\exp{\n",
    "  \\left(\n",
    "    -j \\frac{2\\pi}{18}nk\n",
    "  \\right) \n",
    "} - \n",
    "\\sum_{k=0}^{17} \\frac{1}{2j}\\exp{\\left(-j\\frac{2\\pi}{18}5k\\right)} \\cdot \\exp{\n",
    "  \\left(\n",
    "    -j \\frac{2\\pi}{18}nk\n",
    "  \\right) \n",
    "} = \\\\\n",
    "\\frac{1}{2} \\left(\\sum_{k=0}^{17} \\exp{\n",
    "  \\left(\n",
    "    -j \\frac{2 \\pi}{18} \\left(n - 7\\right)k\n",
    "  \\right) \n",
    "} + \n",
    "\\sum_{k=0}^{17} \\exp{\n",
    "  \\left(\n",
    "    -j \\frac{2 \\pi}{18} \\left(n + 7\\right)k\n",
    "  \\right) \n",
    "}\\right) + \\\\ \n",
    "\\frac{1}{2j} \\left(\\sum_{k=0}^{17} \\exp{\n",
    "  \\left(\n",
    "    -j \\frac{2 \\pi}{18} \\left(n -5\\right)k\n",
    "  \\right) \n",
    "} -\n",
    "\\sum_{k=0}^{17} \\exp{\n",
    "  \\left(\n",
    "    -j \\frac{2 \\pi}{18} \\left(n +5\\right)k\n",
    "  \\right) \n",
    "}\n",
    "\\right)\n",
    "$$\n",
    "Для суммы вида $\\sum_{k=0}^{15} \\exp{\n",
    "  \\left(\n",
    "    -j \\frac{2 \\pi}{16} mk\n",
    "  \\right) \n",
    "}$ нужно, чтобы $m$ равнялось $0$ или было кратно $N$, иначе она обращается в ноль по формуле суммы геометрической прогрессии, таким образом, получаем бины ДПФ:\n",
    "\n",
    "$$\n",
    "\\left\\lbrace \n",
    "\\begin{matrix}\n",
    "X[5] &= -9j\\\\\n",
    "X[7] &= 9\\\\\n",
    "X[11] &= 9\\\\\n",
    "X[13] &= 9j\n",
    "\\end{matrix}\n",
    "\\right.\n",
    "$$"
   ]
  },
  {
   "cell_type": "markdown",
   "metadata": {
    "vscode": {
     "languageId": "bat"
    }
   },
   "source": [
    "Теорема смещения:\n",
    "$$\n",
    "\\sum_{m=0}^{15} \\mathbb{1}[k - m]\n",
    "\\left(\\cos{\\left(\\frac{2\\pi}{18} 7k\\right)} + \\sin{\\left(\\frac{2\\pi}{18}5k\\right)}\\right) = \\\\\n",
    "\\frac{1}{2}\\sum_{m=0}^{17}\\mathbb{1}[k - m]\n",
    "\\exp{\\left(j\\frac{2\\pi}{18} 7k\\right)} +\n",
    "\\frac{1}{2}\\sum_{m=0}^{17} \\mathbb{1}[k - m]\n",
    "\\exp{\\left(-j\\frac{2\\pi}{18} 7k\\right)} + \\\\\n",
    "\\frac{1}{2j}\\sum_{m=0}^{17}\\mathbb{1}[k - m]\n",
    "\\exp{\\left(j\\frac{2\\pi}{18} 5k\\right)} -\n",
    "\\frac{1}{2j}\\sum_{m=0}^{17} \\mathbb{1}[k - m]\n",
    "\\exp{\\left(-j\\frac{2\\pi}{18} 5k\\right)}\n",
    "$$\n",
    "\n",
    "Зная, что ДПФ $N$ единичных импульсов имеет только один ненулевой бин $W[0] = N$, а также используя теорему смещения, получаем:\n",
    "$$\n",
    "\\left\\lbrace \n",
    "\\begin{matrix}\n",
    "X[5] &= -9j\\\\\n",
    "X[7] &= 9\\\\\n",
    "X[11] &= 9\\\\\n",
    "X[13] &= 9j\n",
    "\\end{matrix}\n",
    "\\right.\n",
    "$$\n",
    "\n",
    "Остальные бины ДПФ нулевые."
   ]
  },
  {
   "cell_type": "code",
   "execution_count": null,
   "metadata": {},
   "outputs": [],
   "source": [
    "N, r1, r2 = 18, 7, 5\n",
    "k = np.arange(N)\n",
    "x = np.cos(2 * np.pi / N * r1 * k) + np.sin(2 * np.pi / N * r2 * k)\n",
    "\n",
    "X = np.fft.fft(x)\n",
    "plot_analyses_dft(k, X, signame=\"x\")"
   ]
  },
  {
   "cell_type": "markdown",
   "metadata": {
    "id": "we6K7V-0S8D1"
   },
   "source": [
    "# Модуль 3. Связь между ДПФ и ДВПФ. Частотная ось ДПФ."
   ]
  },
  {
   "cell_type": "markdown",
   "metadata": {
    "id": "YdtsXM0sbM4k"
   },
   "source": [
    "## Задача 3.1. Связь ДПФ и ДВПФ для последовательностей конечной длительности.  \n",
    "## Прямоугольное окно длиной N\n",
    "\n",
    "| Варианты: |   1 |    2 |    3 |    4 |    5 |    6 |    7 |    8 |    9 |    10 | \n",
    "|:---------:|----:|-----:|-----:|-----:|-----:|-----:|-----:|-----:|-----:|-----:|\n",
    "|   **N**   | 16 | 20 | 18 | 16 | 14 | 12 | 20 | 24 | 30 | 32 |\n",
    "  \n",
    "Дана $N$-точечная последовательность $w[k]=\\sum_{m=0}^{N-1} \\mathbf{1} [k-m]$.  \n",
    "\n",
    "* Изобразить график последовательности $w[k]$ средствами Python\n",
    "* Вычислить с помощью `fft` ДПФ данной последовательности. Построить график.\n",
    "* Дополнить последовательность $w[k]$ до $2N$ отсчетов нулями:\n",
    "$$\n",
    "y[k]=\\left\\{\\begin{array}{l}\n",
    "1, \\text{при }  0 \\le k \\le N-1;\n",
    "\\\\\n",
    "0, \\text{при } N \\le k \\le 2N-1.\n",
    "\\end{array}\\right.\n",
    "$$\n",
    "При том изменяется только учитываемая длительность последовательности, влияющая на число отсчетов ДПФ.    \n",
    "Сравнить результат работы `fft(w, 2*N)` c ДПФ для $y[k]$. Построить графики. \n",
    "\n",
    "* Повторить предыдущий пункт для последовательности $w[k]$ дополненой нулями до $4N$ отсчетов.\n",
    "\n",
    "* Вычислить аналитически ДВПФ с помощью формулы прямого преобразования:\n",
    "$$ W(\\nu)= \\sum_{k=-\\infty}^{\\infty} w[k]\\exp(-j2\\pi \\nu k) $$  \n",
    "Сравнить результат с работой функции `fft(w, 1024)`\n",
    "\n",
    "* Построить график модуля ДВПФ $|W(\\nu)|$ на отрезке $[-0.5, 0.5]$, используя функцию `fftshift`.\n",
    "\n"
   ]
  },
  {
   "cell_type": "code",
   "execution_count": null,
   "metadata": {
    "id": "X76RLGbvAC-M"
   },
   "outputs": [],
   "source": [
    "N = 14\n",
    "k = np.arange(N)\n",
    "w = np.ones(N)\n",
    "\n",
    "fig, gs, ax = plot_signal(k, w, format=\"o\", label=\"\", title=\"Сигнал $w[k]$\", xlabel=\"$k$\", ylabel=\"$w[k]$\",\n",
    "                          figsize=(6, 2))"
   ]
  },
  {
   "cell_type": "code",
   "execution_count": null,
   "metadata": {},
   "outputs": [],
   "source": [
    "y = np.append(w, np.zeros(N))\n",
    "Y = np.fft.fft(y)\n",
    "W = np.fft.fft(w, 2 * N)\n",
    "\n",
    "plot_analyses_dft(np.arange(2 * N), Y, signame=\"y\")\n",
    "plot_analyses_dft(np.arange(2 * N), W, signame=\"w_{2N}\")"
   ]
  },
  {
   "cell_type": "code",
   "execution_count": null,
   "metadata": {},
   "outputs": [],
   "source": [
    "y = np.append(w, np.zeros(3 * N))\n",
    "Y = np.fft.fft(y)\n",
    "W = np.fft.fft(w, 4 * N)\n",
    "\n",
    "plot_analyses_dft(np.arange(4 * N), Y, signame=\"y\")\n",
    "plot_analyses_dft(np.arange(4 * N), W, signame=\"w_{4N}\")"
   ]
  },
  {
   "cell_type": "markdown",
   "metadata": {},
   "source": [
    "Вычислим ДВПФ:\n",
    "$$\n",
    "W(\\nu) = \\sum_{k=-\\infty}^{k=\\infty} w[k] \\cdot \\exp{\\left(-j2\\pi\\nu k \\right)} = \n",
    "\\sum_{k=0}^{15} \\exp{\\left(-j2\\pi\\nu k \\right)} = \\\\\n",
    "= \\exp{\\left(-j\\left(N - 1\\right) \\nu\\pi\\right)}\n",
    "\\frac{\n",
    "  \\sin{N\\pi\\nu}\n",
    "}\n",
    "{\\sin{\\pi\\nu}}\n",
    "$$"
   ]
  },
  {
   "cell_type": "code",
   "execution_count": null,
   "metadata": {},
   "outputs": [],
   "source": [
    "nu, W = dtft(w)\n",
    "plot_analyses_dtft(nu, W, signame=\"w\", real_imag=True)"
   ]
  },
  {
   "cell_type": "markdown",
   "metadata": {
    "id": "gCGrQeDzbdOj"
   },
   "source": [
    "## Задача 3.2. Связь между ДВПФ и ДПФ для периодических последовательностей. \n",
    "\n",
    "| Варианты: |   1 |    2 |    3 |    4 |    5 |    6 |    7 |    8 |    9 |    10 | \n",
    "|:---------:|----:|-----:|-----:|-----:|-----:|-----:|-----:|-----:|-----:|-----:|\n",
    "|   **N**   | 16 | 12 | 14 | 16 | 14 | 12 | 24 | 20 | 18 | 16 |\n",
    "|   $r_1$   |  3 |  2 |  6 |  7 |  6 |  1 |  7 |  3 |  3 |  2 |\n",
    "|   $r_2$   |  7 |  4 |  2 |  3 |  4 |  4 |  5 |  7 |  5 |  5 |\n",
    "\n",
    "Задана периодическая последовательность с периодом $N$\n",
    "$$x[k]=\\sin(2\\pi k r_1/N)+\\cos(2\\pi k r_2/N).$$ \n",
    "* Вычислите аналитически ДВПФ\n",
    "* Вычислите с помощью моделирования $N$—точечное ДПФ этой последовательности $\\tilde{X} [n]$ (с нормировкой на число отсчетов). \n",
    "\n",
    "* Сравните веса $\\delta$-функций в ДВПФ и величины отсчетов ДПФ."
   ]
  },
  {
   "cell_type": "markdown",
   "metadata": {},
   "source": [
    "$$\n",
    "x[k] = \n",
    "\\sin{\\left(2 \\pi k \\frac{6}{14}\\right)}+ \n",
    " \\cos{\\left(2 \\pi k \\frac{4}{14} \\right)} = \\\\\n",
    "\\frac{1}{2j} \\exp{\\left(j2 \\pi k \\frac{6}{14}\\right)}- \n",
    "\\frac{1}{2j} \\exp{\\left(-j2 \\pi k \\frac{6}{14}\\right)}+ \\\\\n",
    "\\frac{1}{2} \\exp{\\left(j2 \\pi k \\frac{4}{14} \\right)} +\n",
    "\\frac{1}{2} \\exp{\\left(-j2 \\pi k \\frac{4}{14} \\right)}\n",
    "$$\n",
    "Откуда для ДВПФ получим:\n",
    "$$\n",
    "X(\\nu) = \\sum_{n=-\\infty}^{\\infty} \n",
    "\\left(\n",
    "\\frac{1}{2j} \\delta{\\left(\\nu - \\frac{6}{14} - n\\right)} -\n",
    "\\frac{1}{2j} \\delta{\\left(\\nu + \\frac{6}{14} - n\\right)} \\right.\\\\\n",
    "\\left.\n",
    "\\frac{1}{2}\\delta{\\left(\\nu - \\frac{4}{14} - n\\right)} +\n",
    "\\frac{1}{2}\\delta{\\left(\\nu + \\frac{4}{14} - n\\right)}\n",
    "\\right)\n",
    "$$"
   ]
  },
  {
   "cell_type": "code",
   "execution_count": null,
   "metadata": {
    "id": "4oFgwj4QAFGd"
   },
   "outputs": [],
   "source": [
    "N, r1, r2 = 14, 6, 4\n",
    "\n",
    "k = np.arange(N)\n",
    "x = np.sin(2 * np.pi * k * r1 / N) + np.cos(2 * np.pi * k * r2 / N)\n",
    "\n",
    "X = np.fft.fft(x) / N\n",
    "plot_analyses_dft(k, X, signame=\"x\")"
   ]
  },
  {
   "cell_type": "markdown",
   "metadata": {
    "id": "fwhjy-hvbPCf"
   },
   "source": [
    "## Задача 3.3. Сравнение вычислительной эффективности\n",
    "\n",
    "| Варианты: |   1 |    2 |    3 |    4 |    5 |    6 |    7 |    8 |    9 |    10 | \n",
    "|:---------:|----:|-----:|-----:|-----:|-----:|-----:|-----:|-----:|-----:|-----:|\n",
    "|   **N**   |   512 |   512 |   256 |   256 |   512 |   512 |   512 |   512 |   512 |   256 |\n",
    "|   **P**   | 32768 | 32768 | 65536 | 65536 | 32768 | 65536 | 32768 | 65536 | 32768 | 32768 |\n",
    "\n",
    "Дана $N$-точечная последовательность отсчетов\n",
    "$$ x[k]= \\sin(2\\pi kn_0/N)$$  \n",
    "Посчитать ДВПФ с использованием Python в $P$ точках для этой последовательности, где $n_0$ выбранное вами целое число на отрезке $ 0 < n_0 < N/2 $\n",
    "* используя формулы ДВПФ напрямую, \n",
    "* используя БПФ `fft(x, P)`. \n",
    "\n",
    "Сравнить максимальную ошибку и время работы программы в двух случаях. Построить график $|X(\\nu)|$."
   ]
  },
  {
   "cell_type": "code",
   "execution_count": null,
   "metadata": {
    "id": "LAsRe90iAGjO"
   },
   "outputs": [],
   "source": [
    "import time\n",
    "\n",
    "N, P = 512, 32768 // 2\n",
    "n0 = 100\n",
    "k = np.arange(P)\n",
    "x = np.sin(2 * np.pi * k * n0 / N)"
   ]
  },
  {
   "cell_type": "code",
   "execution_count": null,
   "metadata": {},
   "outputs": [],
   "source": [
    "nu = np.arange(P) / P\n",
    "X1 = np.zeros(P, dtype=np.complex128)\n",
    "\n",
    "start = time.time()\n",
    "for n in range(P):\n",
    "    X1[n] += np.dot(np.exp(-1j * k * 2 * np.pi * n / P), x)\n",
    "\n",
    "print(\"Time:\", time.time() - start, \"c\")"
   ]
  },
  {
   "cell_type": "code",
   "execution_count": null,
   "metadata": {},
   "outputs": [],
   "source": [
    "start = time.time()\n",
    "X2 = np.fft.fft(x, P)\n",
    "print(\"Time \", time.time() - start, \"c\")"
   ]
  },
  {
   "cell_type": "code",
   "execution_count": null,
   "metadata": {},
   "outputs": [],
   "source": [
    "print(\"Максимальная ошибка:\", max(abs(X1 - X2)))"
   ]
  },
  {
   "cell_type": "markdown",
   "metadata": {
    "id": "tQLaxubVbmBy"
   },
   "source": [
    "## Задача 3.4. Частотная ось ДПФ (соответствие номеров отсчетов и частот).\n",
    "\n",
    "| Варианты: |   1 |    2 |    3 |    4 |    5 |    6 |\n",
    "|:---------:|:----:|:-----:|:-----:|:-----:|:-----:|:-----:|\n",
    "|**Аудиозапись:**|`vibraphone.wav`|`clarinet.wav`|`glockenspiel.wav`|`tuning-fork.wav`|`guitar.wav`|`flute.wav`|\n",
    "\n",
    "\n",
    "| Варианты: |    7 |    8 |    9 |    10 |\n",
    "|:---------:|:-----:|:-----:|:-----:|:-----:|\n",
    "|**Аудиозапись:**|`clarinet.wav`|`glockenspiel.wav`|`tuning-fork.wav`|`guitar.wav`|\n",
    "\n",
    "Для аудиозаписи вашего варианта:\n",
    "* указать шаг и частоту дискретизации; \n",
    "* выбрать некоторый интервал отсчетов в информативной области сигнала и для него осуществить ДПФ-анализ, объяснить выбор этой области;\n",
    "* определить с помощью ДПФ-анализа частоту основого колебания."
   ]
  },
  {
   "cell_type": "code",
   "execution_count": null,
   "metadata": {
    "id": "xMCJTg7AAJW6"
   },
   "outputs": [],
   "source": [
    "import scipy.io.wavfile\n",
    "from IPython.display import Audio\n",
    "\n",
    "wav_file_name = \"../wav_files/guitar.wav\"\n",
    "\n",
    "fs, x = scipy.io.wavfile.read(wav_file_name)\n",
    "print(f\"Частота дискретизации: {fs} Гц\")\n",
    "print(f\"Шаг дискретизации: {1/fs} с\")\n",
    "print(len(x))"
   ]
  },
  {
   "cell_type": "code",
   "execution_count": null,
   "metadata": {},
   "outputs": [],
   "source": [
    "Audio(wav_file_name)"
   ]
  },
  {
   "cell_type": "code",
   "execution_count": null,
   "metadata": {},
   "outputs": [],
   "source": [
    "x_part = x[66000:67300]\n",
    "\n",
    "fig, gs, ax = plot_signal(np.arange(x_part.size) / fs, x_part, format=\"-\", label=\"\",\n",
    "                          title=f\"Сигнал guitar, $f_d$={fs} Гц, $\\Delta t=$ {1 / fs} c\", xlabel=\"$t$, c\", ylabel=\"$x(t)$\",\n",
    "                          figsize=(6, 4), uniform=True)\n",
    "\n",
    "nu, X = dtft(x_part)\n",
    "plot_analyses_dtft(nu, X, signame=\"x\", real_imag=False)"
   ]
  },
  {
   "cell_type": "code",
   "execution_count": null,
   "metadata": {},
   "outputs": [],
   "source": [
    "print(\"Частота основного колебания:\", np.abs(nu[np.argmax(np.abs(X))]) * fs)"
   ]
  }
 ],
 "metadata": {
  "colab": {
   "collapsed_sections": [],
   "name": "5_lab1_21.ipynb",
   "provenance": []
  },
  "kernelspec": {
   "display_name": "Python 3 (ipykernel)",
   "language": "python",
   "name": "python3"
  },
  "language_info": {
   "codemirror_mode": {
    "name": "ipython",
    "version": 3
   },
   "file_extension": ".py",
   "mimetype": "text/x-python",
   "name": "python",
   "nbconvert_exporter": "python",
   "pygments_lexer": "ipython3",
   "version": "3.12.5"
  }
 },
 "nbformat": 4,
 "nbformat_minor": 1
}
